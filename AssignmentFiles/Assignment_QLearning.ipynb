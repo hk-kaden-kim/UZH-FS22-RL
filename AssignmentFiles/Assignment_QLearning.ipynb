{
 "cells": [
  {
   "cell_type": "markdown",
   "id": "02944396",
   "metadata": {},
   "source": [
    "# Assignment"
   ]
  },
  {
   "cell_type": "code",
   "execution_count": 1,
   "id": "c9652bc6",
   "metadata": {},
   "outputs": [],
   "source": [
    "# Import \n",
    "\n",
    "import numpy as np\n",
    "import matplotlib.pyplot as plt\n",
    "from degree_freedom_queen import *\n",
    "from degree_freedom_king1 import *\n",
    "from degree_freedom_king2 import *\n",
    "from generate_game import *\n",
    "from Chess_env import *\n",
    "from RL_library import *\n",
    "\n",
    "\n",
    "size_board = 4"
   ]
  },
  {
   "cell_type": "markdown",
   "id": "0bceca7c",
   "metadata": {},
   "source": [
    "## The Environment\n",
    "\n",
    "You can find the environment in the file Chess_env, which contains the class Chess_env. To define an object, you need to provide the board size considered as input. In our example, size_board=4. \n",
    "Chess_env is composed by the following methods:\n",
    "\n",
    "1. Initialise_game. The method initialises an episode by placing the three pieces considered (Agent's king and queen, enemy's king) in the chess board. The outputs of the method are described below in order.\n",
    "\n",
    "     S $\\;$ A matrix representing the board locations filled with 4 numbers: 0, no piece in that position; 1, location of the \n",
    "     agent's king; 2 location of the queen; 3 location of the enemy king.\n",
    "     \n",
    "     X $\\;$ The features, that is the input to the neural network. See the assignment for more information regarding the            definition of the features adopted. To personalise this, go into the Features method of the class Chess_env() and change        accordingly.\n",
    "     \n",
    "     allowed_a $\\;$ The allowed actions that the agent can make. The agent is moving a king, with a total number of 8                possible actions, and a queen, with a total number of $(board_{size}-1)\\times 8$ actions. The total number of possible actions correspond      to the sum of the two, but not all actions are allowed in a given position (movements to locations outside the borders or      against chess rules). Thus, the variable allowed_a is a vector that is one (zero) for an action that the agent can (can't)      make. Be careful, apply the policy considered on the actions that are allowed only.\n",
    "     \n",
    "\n",
    "2. OneStep. The method performs a one step update of the system. Given as input the action selected by the agent, it updates the chess board by performing that action and the response of the enemy king (which is a random allowed action in the settings considered). The first three outputs are the same as for the Initialise_game method, but the variables are computed for the position reached after the update of the system. The fourth and fifth outputs are:\n",
    "\n",
    "     R $\\;$ The reward. To change this, look at the OneStep method of the class where the rewards are set.\n",
    "     \n",
    "     Done $\\;$ A variable that is 1 if the episode has ended (checkmate or draw).\n",
    "     \n",
    "     \n",
    "3. Features. Given the chessboard position, the method computes the features.\n",
    "\n",
    "This information and a quick analysis of the class should be all you need to get going. The other functions that the class exploits are uncommented and constitute an example on how not to write a python code. You can take a look at them if you want, but it is not necessary.\n",
    "\n",
    "\n",
    "\n",
    "\n"
   ]
  },
  {
   "cell_type": "code",
   "execution_count": 2,
   "id": "9593a299",
   "metadata": {},
   "outputs": [],
   "source": [
    "## INITIALISE THE ENVIRONMENT\n",
    "\n",
    "env=Chess_Env(size_board)"
   ]
  },
  {
   "cell_type": "markdown",
   "id": "7192965e",
   "metadata": {},
   "source": [
    "## Q-Learning + Neural Network"
   ]
  },
  {
   "cell_type": "markdown",
   "id": "fe1070d0",
   "metadata": {},
   "source": [
    "Initialize the parameters for training\n",
    "-   Nerual Network Layer\n",
    "-   Hyperparameters\n",
    "-   Result Array"
   ]
  },
  {
   "cell_type": "code",
   "execution_count": 3,
   "id": "d3620101",
   "metadata": {},
   "outputs": [],
   "source": [
    "# INITIALISE THE PARAMETERS OF YOUR NEURAL NETWORK AND...\n",
    "# PLEASE CONSIDER TO USE A MASK OF ONE FOR THE ACTION MADE AND ZERO OTHERWISE IF YOU ARE NOT USING VANILLA GRADIENT DESCENT...\n",
    "# WE SUGGEST A NETWORK WITH ONE HIDDEN LAYER WITH SIZE 200. \n",
    "\n",
    "\n",
    "S,X,allowed_a=env.Initialise_game()\n",
    "N_a=np.shape(allowed_a)[0]   # TOTAL NUMBER OF POSSIBLE ACTIONS\n",
    "\n",
    "N_in=np.shape(X)[0]    ## INPUT SIZE\n",
    "N_h=200                ## NUMBER OF HIDDEN NODES\n",
    "\n",
    "\n",
    "## INITALISE YOUR NEURAL NETWORK...\n",
    "## ----------------------------------------------------\n",
    "### Xavier Initialize for W of each layer\n",
    "W1 = np.random.randn(N_h,N_in) * np.sqrt(1 / (N_in))\n",
    "b1 = np.zeros((N_h,))\n",
    "\n",
    "W2 = np.random.randn(N_a,N_h) * np.sqrt(1 / (N_h))\n",
    "b2 = np.zeros((N_a,))\n",
    "\n",
    "### Adam Optimization Initialize\n",
    "beta1=0.9\n",
    "Adam_W1 = Adam(W1, beta1)\n",
    "Adam_b1 = Adam(b1, beta1)\n",
    "Adam_W2 = Adam(W2, beta1)\n",
    "Adam_b2 = Adam(b2, beta1)\n",
    "## ----------------------------------------------------\n",
    "\n",
    "# HYPERPARAMETERS SUGGESTED (FOR A GRID SIZE OF 4)\n",
    "\n",
    "epsilon_0 = 0.2     # STARTING VALUE OF EPSILON FOR THE EPSILON-GREEDY POLICY\n",
    "beta = 0.00005      # THE PARAMETER SETS HOW QUICKLY THE VALUE OF EPSILON IS DECAYING (SEE epsilon_f BELOW)\n",
    "gamma = 0.85        # THE DISCOUNT FACTOR\n",
    "eta = 0.0035        # THE LEARNING RATE\n",
    "\n",
    "N_episodes = 500 #100000 # THE NUMBER OF GAMES TO BE PLAYED \n",
    "N_perfCheck = 10 #Check the performance every N_perfCheck episodes\n",
    "\n",
    "# SAVING VARIABLES\n",
    "Episode = np.zeros([N_episodes//N_perfCheck, 1])\n",
    "R_save = np.zeros([N_episodes//N_perfCheck, 1])\n",
    "N_moves_save = np.zeros([N_episodes//N_perfCheck, 1])\n",
    "# TRAINING LOOP BONE STRUCTURE...\n",
    "# I WROTE FOR YOU A RANDOM AGENT (THE RANDOM AGENT WILL BE SLOWER TO GIVE CHECKMATE THAN AN OPTIMISED ONE, \n",
    "# SO DON'T GET CONCERNED BY THE TIME IT TAKES), CHANGE WITH YOURS ...\n"
   ]
  },
  {
   "cell_type": "markdown",
   "id": "fb6a7433",
   "metadata": {},
   "source": [
    "Training Q value following Q Learning"
   ]
  },
  {
   "cell_type": "code",
   "execution_count": 6,
   "id": "ece20429",
   "metadata": {},
   "outputs": [
    {
     "name": "stdout",
     "output_type": "stream",
     "text": [
      "-------------------------------------------------------------------\n",
      "10 : Agent Performance Check, START\n"
     ]
    },
    {
     "name": "stderr",
     "output_type": "stream",
     "text": [
      "100%|██████████| 100/100 [00:16<00:00,  6.06it/s]\n"
     ]
    },
    {
     "name": "stdout",
     "output_type": "stream",
     "text": [
      "Agent Performance Check, Average reward: 0.54 Number of steps:  93.75\n",
      "-------------------------------------------------------------------\n",
      "-------------------------------------------------------------------\n",
      "20 : Agent Performance Check, START\n"
     ]
    },
    {
     "name": "stderr",
     "output_type": "stream",
     "text": [
      "100%|██████████| 100/100 [00:22<00:00,  4.42it/s]\n"
     ]
    },
    {
     "name": "stdout",
     "output_type": "stream",
     "text": [
      "Agent Performance Check, Average reward: 0.6 Number of steps:  155.32\n",
      "-------------------------------------------------------------------\n",
      "-------------------------------------------------------------------\n",
      "30 : Agent Performance Check, START\n"
     ]
    },
    {
     "name": "stderr",
     "output_type": "stream",
     "text": [
      "100%|██████████| 100/100 [00:32<00:00,  3.09it/s]\n"
     ]
    },
    {
     "name": "stdout",
     "output_type": "stream",
     "text": [
      "Agent Performance Check, Average reward: 0.35 Number of steps:  244.8\n",
      "-------------------------------------------------------------------\n",
      "-------------------------------------------------------------------\n",
      "40 : Agent Performance Check, START\n"
     ]
    },
    {
     "name": "stderr",
     "output_type": "stream",
     "text": [
      "100%|██████████| 100/100 [00:15<00:00,  6.36it/s]\n"
     ]
    },
    {
     "name": "stdout",
     "output_type": "stream",
     "text": [
      "Agent Performance Check, Average reward: 0.65 Number of steps:  118.63\n",
      "-------------------------------------------------------------------\n",
      "-------------------------------------------------------------------\n",
      "50 : Agent Performance Check, START\n"
     ]
    },
    {
     "name": "stderr",
     "output_type": "stream",
     "text": [
      "100%|██████████| 100/100 [00:26<00:00,  3.81it/s]\n"
     ]
    },
    {
     "name": "stdout",
     "output_type": "stream",
     "text": [
      "Agent Performance Check, Average reward: 0.51 Number of steps:  173.72\n",
      "-------------------------------------------------------------------\n",
      "-------------------------------------------------------------------\n",
      "60 : Agent Performance Check, START\n"
     ]
    },
    {
     "name": "stderr",
     "output_type": "stream",
     "text": [
      "100%|██████████| 100/100 [00:37<00:00,  2.70it/s]\n"
     ]
    },
    {
     "name": "stdout",
     "output_type": "stream",
     "text": [
      "Agent Performance Check, Average reward: 0.57 Number of steps:  257.95\n",
      "-------------------------------------------------------------------\n",
      "-------------------------------------------------------------------\n",
      "70 : Agent Performance Check, START\n"
     ]
    },
    {
     "name": "stderr",
     "output_type": "stream",
     "text": [
      "100%|██████████| 100/100 [00:10<00:00,  9.49it/s]\n"
     ]
    },
    {
     "name": "stdout",
     "output_type": "stream",
     "text": [
      "Agent Performance Check, Average reward: 0.62 Number of steps:  64.1\n",
      "-------------------------------------------------------------------\n",
      "-------------------------------------------------------------------\n",
      "80 : Agent Performance Check, START\n"
     ]
    },
    {
     "name": "stderr",
     "output_type": "stream",
     "text": [
      "100%|██████████| 100/100 [00:16<00:00,  6.21it/s]\n"
     ]
    },
    {
     "name": "stdout",
     "output_type": "stream",
     "text": [
      "Agent Performance Check, Average reward: 0.78 Number of steps:  107.13\n",
      "-------------------------------------------------------------------\n",
      "-------------------------------------------------------------------\n",
      "90 : Agent Performance Check, START\n"
     ]
    },
    {
     "name": "stderr",
     "output_type": "stream",
     "text": [
      "100%|██████████| 100/100 [00:20<00:00,  4.87it/s]\n"
     ]
    },
    {
     "name": "stdout",
     "output_type": "stream",
     "text": [
      "Agent Performance Check, Average reward: 0.61 Number of steps:  116.28\n",
      "-------------------------------------------------------------------\n",
      "-------------------------------------------------------------------\n",
      "100 : Agent Performance Check, START\n"
     ]
    },
    {
     "name": "stderr",
     "output_type": "stream",
     "text": [
      "100%|██████████| 100/100 [00:18<00:00,  5.48it/s]\n"
     ]
    },
    {
     "name": "stdout",
     "output_type": "stream",
     "text": [
      "Agent Performance Check, Average reward: 0.47 Number of steps:  130.4\n",
      "-------------------------------------------------------------------\n",
      "-------------------------------------------------------------------\n",
      "110 : Agent Performance Check, START\n"
     ]
    },
    {
     "name": "stderr",
     "output_type": "stream",
     "text": [
      "100%|██████████| 100/100 [00:21<00:00,  4.60it/s]\n"
     ]
    },
    {
     "name": "stdout",
     "output_type": "stream",
     "text": [
      "Agent Performance Check, Average reward: 0.67 Number of steps:  154.87\n",
      "-------------------------------------------------------------------\n",
      "-------------------------------------------------------------------\n",
      "120 : Agent Performance Check, START\n"
     ]
    },
    {
     "name": "stderr",
     "output_type": "stream",
     "text": [
      "100%|██████████| 100/100 [00:40<00:00,  2.45it/s]\n"
     ]
    },
    {
     "name": "stdout",
     "output_type": "stream",
     "text": [
      "Agent Performance Check, Average reward: 0.41 Number of steps:  311.97\n",
      "-------------------------------------------------------------------\n",
      "-------------------------------------------------------------------\n",
      "130 : Agent Performance Check, START\n"
     ]
    },
    {
     "name": "stderr",
     "output_type": "stream",
     "text": [
      "100%|██████████| 100/100 [00:28<00:00,  3.47it/s]\n"
     ]
    },
    {
     "name": "stdout",
     "output_type": "stream",
     "text": [
      "Agent Performance Check, Average reward: 0.48 Number of steps:  231.78\n",
      "-------------------------------------------------------------------\n",
      "-------------------------------------------------------------------\n",
      "140 : Agent Performance Check, START\n"
     ]
    },
    {
     "name": "stderr",
     "output_type": "stream",
     "text": [
      "100%|██████████| 100/100 [00:08<00:00, 11.29it/s]\n"
     ]
    },
    {
     "name": "stdout",
     "output_type": "stream",
     "text": [
      "Agent Performance Check, Average reward: 0.46 Number of steps:  66.32\n",
      "-------------------------------------------------------------------\n",
      "-------------------------------------------------------------------\n",
      "150 : Agent Performance Check, START\n"
     ]
    },
    {
     "name": "stderr",
     "output_type": "stream",
     "text": [
      "100%|██████████| 100/100 [00:01<00:00, 85.39it/s]\n"
     ]
    },
    {
     "name": "stdout",
     "output_type": "stream",
     "text": [
      "Agent Performance Check, Average reward: 0.66 Number of steps:  7.19\n",
      "-------------------------------------------------------------------\n",
      "-------------------------------------------------------------------\n",
      "160 : Agent Performance Check, START\n"
     ]
    },
    {
     "name": "stderr",
     "output_type": "stream",
     "text": [
      "100%|██████████| 100/100 [00:38<00:00,  2.62it/s]\n"
     ]
    },
    {
     "name": "stdout",
     "output_type": "stream",
     "text": [
      "Agent Performance Check, Average reward: 0.51 Number of steps:  272.85\n",
      "-------------------------------------------------------------------\n",
      "-------------------------------------------------------------------\n",
      "170 : Agent Performance Check, START\n"
     ]
    },
    {
     "name": "stderr",
     "output_type": "stream",
     "text": [
      "100%|██████████| 100/100 [00:02<00:00, 45.40it/s]\n"
     ]
    },
    {
     "name": "stdout",
     "output_type": "stream",
     "text": [
      "Agent Performance Check, Average reward: 0.58 Number of steps:  13.07\n",
      "-------------------------------------------------------------------\n",
      "-------------------------------------------------------------------\n",
      "180 : Agent Performance Check, START\n"
     ]
    },
    {
     "name": "stderr",
     "output_type": "stream",
     "text": [
      "100%|██████████| 100/100 [00:16<00:00,  6.02it/s]\n"
     ]
    },
    {
     "name": "stdout",
     "output_type": "stream",
     "text": [
      "Agent Performance Check, Average reward: 0.56 Number of steps:  122.06\n",
      "-------------------------------------------------------------------\n",
      "-------------------------------------------------------------------\n",
      "190 : Agent Performance Check, START\n"
     ]
    },
    {
     "name": "stderr",
     "output_type": "stream",
     "text": [
      "100%|██████████| 100/100 [00:19<00:00,  5.09it/s]\n"
     ]
    },
    {
     "name": "stdout",
     "output_type": "stream",
     "text": [
      "Agent Performance Check, Average reward: 0.55 Number of steps:  142.04\n",
      "-------------------------------------------------------------------\n",
      "-------------------------------------------------------------------\n",
      "200 : Agent Performance Check, START\n"
     ]
    },
    {
     "name": "stderr",
     "output_type": "stream",
     "text": [
      "100%|██████████| 100/100 [00:12<00:00,  7.77it/s]\n"
     ]
    },
    {
     "name": "stdout",
     "output_type": "stream",
     "text": [
      "Agent Performance Check, Average reward: 0.57 Number of steps:  92.12\n",
      "-------------------------------------------------------------------\n",
      "-------------------------------------------------------------------\n",
      "210 : Agent Performance Check, START\n"
     ]
    },
    {
     "name": "stderr",
     "output_type": "stream",
     "text": [
      "100%|██████████| 100/100 [00:16<00:00,  5.92it/s]\n"
     ]
    },
    {
     "name": "stdout",
     "output_type": "stream",
     "text": [
      "Agent Performance Check, Average reward: 0.61 Number of steps:  122.57\n",
      "-------------------------------------------------------------------\n",
      "-------------------------------------------------------------------\n",
      "220 : Agent Performance Check, START\n"
     ]
    },
    {
     "name": "stderr",
     "output_type": "stream",
     "text": [
      "100%|██████████| 100/100 [00:13<00:00,  7.61it/s]\n"
     ]
    },
    {
     "name": "stdout",
     "output_type": "stream",
     "text": [
      "Agent Performance Check, Average reward: 0.59 Number of steps:  93.21\n",
      "-------------------------------------------------------------------\n",
      "-------------------------------------------------------------------\n",
      "230 : Agent Performance Check, START\n"
     ]
    },
    {
     "name": "stderr",
     "output_type": "stream",
     "text": [
      "100%|██████████| 100/100 [00:21<00:00,  4.59it/s]\n"
     ]
    },
    {
     "name": "stdout",
     "output_type": "stream",
     "text": [
      "Agent Performance Check, Average reward: 0.62 Number of steps:  158.98\n",
      "-------------------------------------------------------------------\n",
      "-------------------------------------------------------------------\n",
      "240 : Agent Performance Check, START\n"
     ]
    },
    {
     "name": "stderr",
     "output_type": "stream",
     "text": [
      "100%|██████████| 100/100 [00:15<00:00,  6.50it/s]\n"
     ]
    },
    {
     "name": "stdout",
     "output_type": "stream",
     "text": [
      "Agent Performance Check, Average reward: 0.62 Number of steps:  115.82\n",
      "-------------------------------------------------------------------\n",
      "-------------------------------------------------------------------\n",
      "250 : Agent Performance Check, START\n"
     ]
    },
    {
     "name": "stderr",
     "output_type": "stream",
     "text": [
      "100%|██████████| 100/100 [00:22<00:00,  4.45it/s]\n"
     ]
    },
    {
     "name": "stdout",
     "output_type": "stream",
     "text": [
      "Agent Performance Check, Average reward: 0.44 Number of steps:  174.71\n",
      "-------------------------------------------------------------------\n",
      "-------------------------------------------------------------------\n",
      "260 : Agent Performance Check, START\n"
     ]
    },
    {
     "name": "stderr",
     "output_type": "stream",
     "text": [
      "100%|██████████| 100/100 [00:10<00:00,  9.51it/s]\n"
     ]
    },
    {
     "name": "stdout",
     "output_type": "stream",
     "text": [
      "Agent Performance Check, Average reward: 0.63 Number of steps:  83.13\n",
      "-------------------------------------------------------------------\n",
      "-------------------------------------------------------------------\n",
      "270 : Agent Performance Check, START\n"
     ]
    },
    {
     "name": "stderr",
     "output_type": "stream",
     "text": [
      "100%|██████████| 100/100 [00:00<00:00, 137.09it/s]\n"
     ]
    },
    {
     "name": "stdout",
     "output_type": "stream",
     "text": [
      "Agent Performance Check, Average reward: 0.73 Number of steps:  3.98\n",
      "-------------------------------------------------------------------\n",
      "-------------------------------------------------------------------\n",
      "280 : Agent Performance Check, START\n"
     ]
    },
    {
     "name": "stderr",
     "output_type": "stream",
     "text": [
      "100%|██████████| 100/100 [00:01<00:00, 64.10it/s]\n"
     ]
    },
    {
     "name": "stdout",
     "output_type": "stream",
     "text": [
      "Agent Performance Check, Average reward: 0.51 Number of steps:  10.9\n",
      "-------------------------------------------------------------------\n",
      "-------------------------------------------------------------------\n",
      "290 : Agent Performance Check, START\n"
     ]
    },
    {
     "name": "stderr",
     "output_type": "stream",
     "text": [
      "100%|██████████| 100/100 [00:02<00:00, 47.23it/s]\n"
     ]
    },
    {
     "name": "stdout",
     "output_type": "stream",
     "text": [
      "Agent Performance Check, Average reward: 0.82 Number of steps:  15.05\n",
      "-------------------------------------------------------------------\n",
      "-------------------------------------------------------------------\n",
      "300 : Agent Performance Check, START\n"
     ]
    },
    {
     "name": "stderr",
     "output_type": "stream",
     "text": [
      "100%|██████████| 100/100 [00:03<00:00, 26.55it/s]\n"
     ]
    },
    {
     "name": "stdout",
     "output_type": "stream",
     "text": [
      "Agent Performance Check, Average reward: 0.65 Number of steps:  26.44\n",
      "-------------------------------------------------------------------\n",
      "-------------------------------------------------------------------\n",
      "310 : Agent Performance Check, START\n"
     ]
    },
    {
     "name": "stderr",
     "output_type": "stream",
     "text": [
      "100%|██████████| 100/100 [00:23<00:00,  4.17it/s]\n"
     ]
    },
    {
     "name": "stdout",
     "output_type": "stream",
     "text": [
      "Agent Performance Check, Average reward: 0.45 Number of steps:  180.91\n",
      "-------------------------------------------------------------------\n",
      "-------------------------------------------------------------------\n",
      "320 : Agent Performance Check, START\n"
     ]
    },
    {
     "name": "stderr",
     "output_type": "stream",
     "text": [
      "100%|██████████| 100/100 [00:12<00:00,  7.97it/s]\n"
     ]
    },
    {
     "name": "stdout",
     "output_type": "stream",
     "text": [
      "Agent Performance Check, Average reward: 0.59 Number of steps:  94.01\n",
      "-------------------------------------------------------------------\n",
      "-------------------------------------------------------------------\n",
      "330 : Agent Performance Check, START\n"
     ]
    },
    {
     "name": "stderr",
     "output_type": "stream",
     "text": [
      "100%|██████████| 100/100 [00:15<00:00,  6.37it/s]\n"
     ]
    },
    {
     "name": "stdout",
     "output_type": "stream",
     "text": [
      "Agent Performance Check, Average reward: 0.69 Number of steps:  117.53\n",
      "-------------------------------------------------------------------\n",
      "-------------------------------------------------------------------\n",
      "340 : Agent Performance Check, START\n"
     ]
    },
    {
     "name": "stderr",
     "output_type": "stream",
     "text": [
      "100%|██████████| 100/100 [00:34<00:00,  2.92it/s]\n"
     ]
    },
    {
     "name": "stdout",
     "output_type": "stream",
     "text": [
      "Agent Performance Check, Average reward: 0.54 Number of steps:  263.16\n",
      "-------------------------------------------------------------------\n",
      "-------------------------------------------------------------------\n",
      "350 : Agent Performance Check, START\n"
     ]
    },
    {
     "name": "stderr",
     "output_type": "stream",
     "text": [
      "100%|██████████| 100/100 [00:19<00:00,  5.16it/s]\n"
     ]
    },
    {
     "name": "stdout",
     "output_type": "stream",
     "text": [
      "Agent Performance Check, Average reward: 0.65 Number of steps:  146.25\n",
      "-------------------------------------------------------------------\n",
      "-------------------------------------------------------------------\n",
      "360 : Agent Performance Check, START\n"
     ]
    },
    {
     "name": "stderr",
     "output_type": "stream",
     "text": [
      "100%|██████████| 100/100 [00:08<00:00, 12.33it/s]\n"
     ]
    },
    {
     "name": "stdout",
     "output_type": "stream",
     "text": [
      "Agent Performance Check, Average reward: 0.76 Number of steps:  65.3\n",
      "-------------------------------------------------------------------\n",
      "-------------------------------------------------------------------\n",
      "370 : Agent Performance Check, START\n"
     ]
    },
    {
     "name": "stderr",
     "output_type": "stream",
     "text": [
      "100%|██████████| 100/100 [00:00<00:00, 110.97it/s]\n"
     ]
    },
    {
     "name": "stdout",
     "output_type": "stream",
     "text": [
      "Agent Performance Check, Average reward: 0.81 Number of steps:  4.27\n",
      "-------------------------------------------------------------------\n",
      "-------------------------------------------------------------------\n",
      "380 : Agent Performance Check, START\n"
     ]
    },
    {
     "name": "stderr",
     "output_type": "stream",
     "text": [
      "100%|██████████| 100/100 [00:17<00:00,  5.76it/s]\n"
     ]
    },
    {
     "name": "stdout",
     "output_type": "stream",
     "text": [
      "Agent Performance Check, Average reward: 0.72 Number of steps:  132.35\n",
      "-------------------------------------------------------------------\n",
      "-------------------------------------------------------------------\n",
      "390 : Agent Performance Check, START\n"
     ]
    },
    {
     "name": "stderr",
     "output_type": "stream",
     "text": [
      "100%|██████████| 100/100 [00:48<00:00,  2.04it/s]\n"
     ]
    },
    {
     "name": "stdout",
     "output_type": "stream",
     "text": [
      "Agent Performance Check, Average reward: 0.48 Number of steps:  351.87\n",
      "-------------------------------------------------------------------\n",
      "-------------------------------------------------------------------\n",
      "400 : Agent Performance Check, START\n"
     ]
    },
    {
     "name": "stderr",
     "output_type": "stream",
     "text": [
      "100%|██████████| 100/100 [00:05<00:00, 19.99it/s]\n"
     ]
    },
    {
     "name": "stdout",
     "output_type": "stream",
     "text": [
      "Agent Performance Check, Average reward: 0.79 Number of steps:  32.91\n",
      "-------------------------------------------------------------------\n",
      "-------------------------------------------------------------------\n",
      "410 : Agent Performance Check, START\n"
     ]
    },
    {
     "name": "stderr",
     "output_type": "stream",
     "text": [
      "100%|██████████| 100/100 [00:16<00:00,  6.15it/s]\n"
     ]
    },
    {
     "name": "stdout",
     "output_type": "stream",
     "text": [
      "Agent Performance Check, Average reward: 0.49 Number of steps:  115.6\n",
      "-------------------------------------------------------------------\n",
      "-------------------------------------------------------------------\n",
      "420 : Agent Performance Check, START\n"
     ]
    },
    {
     "name": "stderr",
     "output_type": "stream",
     "text": [
      "100%|██████████| 100/100 [00:06<00:00, 16.26it/s]\n"
     ]
    },
    {
     "name": "stdout",
     "output_type": "stream",
     "text": [
      "Agent Performance Check, Average reward: 0.74 Number of steps:  48.27\n",
      "-------------------------------------------------------------------\n",
      "-------------------------------------------------------------------\n",
      "430 : Agent Performance Check, START\n"
     ]
    },
    {
     "name": "stderr",
     "output_type": "stream",
     "text": [
      "100%|██████████| 100/100 [00:24<00:00,  4.16it/s]\n"
     ]
    },
    {
     "name": "stdout",
     "output_type": "stream",
     "text": [
      "Agent Performance Check, Average reward: 0.67 Number of steps:  183.06\n",
      "-------------------------------------------------------------------\n",
      "-------------------------------------------------------------------\n",
      "440 : Agent Performance Check, START\n"
     ]
    },
    {
     "name": "stderr",
     "output_type": "stream",
     "text": [
      "100%|██████████| 100/100 [00:01<00:00, 78.67it/s]\n"
     ]
    },
    {
     "name": "stdout",
     "output_type": "stream",
     "text": [
      "Agent Performance Check, Average reward: 0.82 Number of steps:  8.07\n",
      "-------------------------------------------------------------------\n",
      "-------------------------------------------------------------------\n",
      "450 : Agent Performance Check, START\n"
     ]
    },
    {
     "name": "stderr",
     "output_type": "stream",
     "text": [
      "100%|██████████| 100/100 [00:04<00:00, 20.46it/s]\n"
     ]
    },
    {
     "name": "stdout",
     "output_type": "stream",
     "text": [
      "Agent Performance Check, Average reward: 0.9 Number of steps:  36.65\n",
      "-------------------------------------------------------------------\n",
      "-------------------------------------------------------------------\n",
      "460 : Agent Performance Check, START\n"
     ]
    },
    {
     "name": "stderr",
     "output_type": "stream",
     "text": [
      "100%|██████████| 100/100 [00:09<00:00, 10.37it/s]\n"
     ]
    },
    {
     "name": "stdout",
     "output_type": "stream",
     "text": [
      "Agent Performance Check, Average reward: 0.73 Number of steps:  74.13\n",
      "-------------------------------------------------------------------\n",
      "-------------------------------------------------------------------\n",
      "470 : Agent Performance Check, START\n"
     ]
    },
    {
     "name": "stderr",
     "output_type": "stream",
     "text": [
      "100%|██████████| 100/100 [00:33<00:00,  3.01it/s]\n"
     ]
    },
    {
     "name": "stdout",
     "output_type": "stream",
     "text": [
      "Agent Performance Check, Average reward: 0.56 Number of steps:  251.99\n",
      "-------------------------------------------------------------------\n",
      "-------------------------------------------------------------------\n",
      "480 : Agent Performance Check, START\n"
     ]
    },
    {
     "name": "stderr",
     "output_type": "stream",
     "text": [
      "100%|██████████| 100/100 [00:24<00:00,  4.05it/s]\n"
     ]
    },
    {
     "name": "stdout",
     "output_type": "stream",
     "text": [
      "Agent Performance Check, Average reward: 0.6 Number of steps:  185.49\n",
      "-------------------------------------------------------------------\n",
      "-------------------------------------------------------------------\n",
      "490 : Agent Performance Check, START\n"
     ]
    },
    {
     "name": "stderr",
     "output_type": "stream",
     "text": [
      "100%|██████████| 100/100 [00:04<00:00, 23.19it/s]\n"
     ]
    },
    {
     "name": "stdout",
     "output_type": "stream",
     "text": [
      "Agent Performance Check, Average reward: 0.82 Number of steps:  32.01\n",
      "-------------------------------------------------------------------\n",
      "-------------------------------------------------------------------\n",
      "500 : Agent Performance Check, START\n"
     ]
    },
    {
     "name": "stderr",
     "output_type": "stream",
     "text": [
      "100%|██████████| 100/100 [00:11<00:00,  8.70it/s]"
     ]
    },
    {
     "name": "stdout",
     "output_type": "stream",
     "text": [
      "Agent Performance Check, Average reward: 0.68 Number of steps:  83.96\n",
      "-------------------------------------------------------------------\n"
     ]
    },
    {
     "name": "stderr",
     "output_type": "stream",
     "text": [
      "\n"
     ]
    }
   ],
   "source": [
    "p = 0\n",
    "for n in range(N_episodes):\n",
    "\n",
    "    epsilon_f = epsilon_0 / (1 + beta * n)   ## DECAYING EPSILON\n",
    "    Done=0                                   ## SET DONE TO ZERO (BEGINNING OF THE EPISODE)\n",
    "    i = 1                                    ## COUNTER FOR NUMBER OF ACTIONS\n",
    "    \n",
    "    \"\"\"\n",
    "    Q-Learning Algorithm\n",
    "    1. Initialize S, X, ALLOWED_A\n",
    "    \"\"\"\n",
    "    S,X,allowed_a=env.Initialise_game()      ## INITIALISE GAME\n",
    "\n",
    "    while Done==0:                        ## START THE EPISODE\n",
    "        \n",
    "        ## THIS IS A RANDOM AGENT, CHANGE IT...\n",
    "        \"\"\"\n",
    "        Q-Learning Algorithm\n",
    "        2. CHOOSE A_AGENT FROM S USING POLICY DERIVED FROM Q (EPSILON-GREEDY)\n",
    "        \"\"\"\n",
    "        Qvalues, a_h = CalQvalues(X,W1,W2,b1,b2)\n",
    "        a_agent, _ = EpsilonGreedy_Policy(Qvalues, allowed_a, epsilon_f)\n",
    "\n",
    "        \"\"\"\n",
    "        Q-Learning Algorithm\n",
    "        3. TAKE ACTION A_AGENT, OBSERVE R, S_NEXT\n",
    "        \"\"\"\n",
    "        S_next,X_next,allowed_a_next,R,Done=env.OneStep(a_agent)\n",
    "\n",
    "\n",
    "        ## THE EPISODE HAS ENDED, UPDATE...BE CAREFUL, THIS IS THE LAST STEP OF THE EPISODE\n",
    "        \"\"\"\n",
    "        If the game is Done(Checkmate, Draw),\n",
    "        Update the parameters of Neural Network lastly.\n",
    "        \"\"\"        \n",
    "        if Done==1:\n",
    "\n",
    "            # Back Propagation with ADAM Optimization\n",
    "            # NOT CONSIDER X_NEXT\n",
    "\n",
    "            # Compute the error signal\n",
    "            e_n = np.zeros(np.shape(Qvalues))\n",
    "            e_n[a_agent] = R-Qvalues[a_agent]\n",
    "\n",
    "            # Backpropagation: output layer -> hidden layer\n",
    "            # Activation Function : ReLu(Reactified Linear Function)\n",
    "            delta2 = e_n\n",
    "            dW2 = np.outer(delta2, a_h)\n",
    "            db2 = delta2\n",
    "\n",
    "            # Backpropagation: hidden layer -> input layer\n",
    "            # Activation Function : ReLu(Reactified Linear Function)\n",
    "            delta1 = np.dot(W2.T, delta2)\n",
    "            dW1 = np.outer(delta1,X)\n",
    "            db1 = delta1\n",
    "\n",
    "            W2 += eta*Adam_W2.Compute(dW2)\n",
    "            W1 += eta*Adam_W1.Compute(dW1)\n",
    "            b2 += eta*Adam_b2.Compute(db2)\n",
    "            b1 += eta*Adam_b1.Compute(db1)\n",
    "            \n",
    "            break\n",
    "        \n",
    "        # IF THE EPISODE IS NOT OVER...\n",
    "        else:\n",
    "            \n",
    "            ## ONLY TO PUT SUMETHING\n",
    "            PIPPO=1\n",
    "\n",
    "\n",
    "        \"\"\"\n",
    "        Q-Learning Algorithm\n",
    "        4. UPDATE Q VALUES\n",
    "        \"\"\"\n",
    "        # Compute the delta of Q-learning\n",
    "        e_n = np.zeros(np.shape(Qvalues))\n",
    "        Qvalues_next, a_h = CalQvalues(X_next,W1,W2,b1,b2)\n",
    "        a_agent_next, _ = EpsilonGreedy_Policy(Qvalues_next, allowed_a_next, 0) # Select the greedy action\n",
    "        e_n[a_agent] = R+gamma*Qvalues_next[a_agent_next]-Qvalues[a_agent]\n",
    "        \n",
    "        # Backpropagation: output layer -> hidden layer\n",
    "        # Activation Function : ReLu(Reactified Linear Function)\n",
    "        delta2 = e_n\n",
    "        dW2 = np.outer(delta2, a_h)\n",
    "        db2 = delta2\n",
    "\n",
    "        # Backpropagation: hidden layer -> input layer\n",
    "        # Activation Function : ReLu(Reactified Linear Function)\n",
    "        delta1 = np.dot(W2.T, delta2)\n",
    "        dW1 = np.outer(delta1,X)\n",
    "        db1 = delta1\n",
    "\n",
    "        W2 += eta*Adam_W2.Compute(dW2)\n",
    "        W1 += eta*Adam_W1.Compute(dW1)\n",
    "        b2 += eta*Adam_b2.Compute(db2)\n",
    "        b1 += eta*Adam_b1.Compute(db1)\n",
    "\n",
    "        \"\"\"\n",
    "        Q-Learning Algorithm\n",
    "        4. 5. UPDATE S, X, ALLOWED_A\n",
    "        \"\"\"\n",
    "        \n",
    "        ##--------------------------------------------------------     \n",
    "        # NEXT STATE AND CO. BECOME ACTUAL STATE...     \n",
    "        S=np.copy(S_next)\n",
    "        X=np.copy(X_next)\n",
    "        allowed_a=np.copy(allowed_a_next)\n",
    "        ##--------------------------------------------------------     \n",
    "        i += 1  # UPDATE COUNTER FOR NUMBER OF ACTIONS\n",
    "\n",
    "    if ((n+1)%N_perfCheck==0):\n",
    "        print(n+1,': Agent Performance Check, START')\n",
    "        R_perf, N_moves_perf = PerformanceCheck(env,W1,W2,b1,b2,100)\n",
    "        print('Agent Performance Check, Average reward:',R_perf,'Number of steps: ',N_moves_perf)\n",
    "        print('-------------------------------------------------------------------')\n",
    "\n",
    "        Episode[p] = n\n",
    "        R_save[p] = np.copy(R_perf)\n",
    "        N_moves_save[p] = np.copy(N_moves_perf)\n",
    "        \n",
    "        p += 1"
   ]
  },
  {
   "cell_type": "code",
   "execution_count": 8,
   "id": "b288ad57",
   "metadata": {},
   "outputs": [
    {
     "name": "stderr",
     "output_type": "stream",
     "text": [
      "100%|██████████| 100/100 [00:17<00:00,  5.88it/s]\n"
     ]
    },
    {
     "data": {
      "text/plain": [
       "(0.64, 115.27)"
      ]
     },
     "execution_count": 8,
     "metadata": {},
     "output_type": "execute_result"
    }
   ],
   "source": [
    "PerformanceCheck(env,W1,W2,b1,b2,100)"
   ]
  },
  {
   "cell_type": "code",
   "execution_count": 9,
   "id": "fda0c03e",
   "metadata": {},
   "outputs": [
    {
     "data": {
      "text/plain": [
       "[<matplotlib.lines.Line2D at 0x7f9bc58b6fa0>]"
      ]
     },
     "execution_count": 9,
     "metadata": {},
     "output_type": "execute_result"
    },
    {
     "data": {
      "image/png": "[encoded data removed]",
      "text/plain": [
       "<Figure size 432x288 with 1 Axes>"
      ]
     },
     "metadata": {
      "needs_background": "light"
     },
     "output_type": "display_data"
    }
   ],
   "source": [
    "plt.plot(R_save)"
   ]
  },
  {
   "cell_type": "code",
   "execution_count": 10,
   "id": "6ca4eb10",
   "metadata": {},
   "outputs": [
    {
     "data": {
      "text/plain": [
       "[<matplotlib.lines.Line2D at 0x7f9bc5a9e340>]"
      ]
     },
     "execution_count": 10,
     "metadata": {},
     "output_type": "execute_result"
    },
    {
     "data": {
      "image/png": "[encoded data removed]",
      "text/plain": [
       "<Figure size 432x288 with 1 Axes>"
      ]
     },
     "metadata": {
      "needs_background": "light"
     },
     "output_type": "display_data"
    }
   ],
   "source": [
    "plt.plot(N_moves_save)"
   ]
  },
  {
   "cell_type": "code",
   "execution_count": 14,
   "id": "e695e475",
   "metadata": {},
   "outputs": [
    {
     "data": {
      "image/png": "[encoded data removed]",
      "text/plain": [
       "<Figure size 432x288 with 1 Axes>"
      ]
     },
     "metadata": {
      "needs_background": "light"
     },
     "output_type": "display_data"
    }
   ],
   "source": [
    "import pandas as pd\n",
    " \n",
    "# create a dataframe\n",
    "R_save = pd.DataFrame(R_save)\n",
    " \n",
    "# finding EMA\n",
    "# use any constant value that results in\n",
    "# good smoothened curve\n",
    "ema = R_save.ewm(com=10).mean()\n",
    " \n",
    "# Comparison plot b/w stock values & EMA\n",
    "plt.plot(R_save, label=\"Reward\")\n",
    "plt.plot(ema, label=\"EMA Values\")\n",
    "plt.xlabel(\"Days\")\n",
    "plt.ylabel(\"Price\")\n",
    "plt.legend()\n",
    "plt.show()"
   ]
  },
  {
   "cell_type": "code",
   "execution_count": 21,
   "id": "a5bac400",
   "metadata": {},
   "outputs": [],
   "source": [
    "np.savetxt(\"Episode\",Episode)\n",
    "np.savetxt(\"R_Save\",R_save)\n",
    "np.savetxt(\"N_moves_save\",N_moves_save)"
   ]
  },
  {
   "cell_type": "markdown",
   "id": "0400e7df",
   "metadata": {},
   "source": [
    "#### Appendix"
   ]
  },
  {
   "cell_type": "code",
   "execution_count": null,
   "id": "30608e34",
   "metadata": {},
   "outputs": [],
   "source": [
    "# # PERFORM N_episodes=1000 EPISODES MAKING RANDOM ACTIONS AND COMPUTE THE AVERAGE REWARD AND NUMBER OF MOVES \n",
    "\n",
    "# S,X,allowed_a=env.Initialise_game()\n",
    "# N_episodes=10\n",
    "\n",
    "# # VARIABLES WHERE TO SAVE THE FINAL REWARD IN AN EPISODE AND THE NUMBER OF MOVES \n",
    "# R_save_random = np.zeros([N_episodes, 1])\n",
    "# N_moves_save_random = np.zeros([N_episodes, 1])\n",
    "\n",
    "# max_move = 10000\n",
    "\n",
    "# for n in range(N_episodes):\n",
    "    \n",
    "#     S,X,allowed_a=env.Initialise_game()     # INITIALISE GAME\n",
    "#     Done=0                                  # SET Done=0 AT THE BEGINNING\n",
    "#     i=1                                     # COUNTER FOR THE NUMBER OF ACTIONS (MOVES) IN AN EPISODE\n",
    "    \n",
    "#     # UNTIL THE EPISODE IS NOT OVER...(Done=0)\n",
    "#     for i in range(max_move):\n",
    "#     # for i in range(5):\n",
    "#         # SAME AS THE CELL BEFORE, BUT SAVING THE RESULTS WHEN THE EPISODE TERMINATES \n",
    "        \n",
    "#         Qvalues, A_h = CalQvalues(X,W1,W2,b1,b2) # Compute Q value depends on S (X:Features)\n",
    "#         a_agent,_ = EpsilonGreedy_Policy(Qvalues, allowed_a, 0) # Select the greedy action\n",
    "\n",
    "#         S,X,allowed_a,R,Done=env.OneStep(a_agent)\n",
    "        \n",
    "#         if Done:\n",
    "            \n",
    "#             R_save_random[n]=np.copy(R)\n",
    "#             N_moves_save_random[n]=np.copy(i)\n",
    "\n",
    "#             break\n",
    "\n",
    "#         i=i+1  \n",
    "#                                      # UPDATE THE COUNTER\n",
    "#     if Done==0:\n",
    "#         R_save_random[n]=0\n",
    "#         N_moves_save_random[n]=max_move\n",
    "# # AS YOU SEE, THE PERFORMANCE OF A RANDOM AGENT ARE NOT GREAT, SINCE THE MAJORITY OF THE POSITIONS END WITH A DRAW \n",
    "# # (THE ENEMY KING IS NOT IN CHECK AND CAN'T MOVE)\n",
    "\n",
    "# print('Random_Agent, Average reward:',np.mean(R_save_random),'Number of steps: ',np.mean(N_moves_save_random))"
   ]
  }
 ],
 "metadata": {
  "kernelspec": {
   "display_name": "Python 3 (ipykernel)",
   "language": "python",
   "name": "python3"
  },
  "language_info": {
   "codemirror_mode": {
    "name": "ipython",
    "version": 3
   },
   "file_extension": ".py",
   "mimetype": "text/x-python",
   "name": "python",
   "nbconvert_exporter": "python",
   "pygments_lexer": "ipython3",
   "version": "3.9.1"
  }
 },
 "nbformat": 4,
 "nbformat_minor": 5
}
