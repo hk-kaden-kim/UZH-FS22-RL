{
 "cells": [
  {
   "cell_type": "markdown",
   "id": "02944396",
   "metadata": {},
   "source": [
    "# Assignment"
   ]
  },
  {
   "cell_type": "code",
   "execution_count": 1,
   "id": "c9652bc6",
   "metadata": {},
   "outputs": [],
   "source": [
    "# Import \n",
    "\n",
    "import numpy as np\n",
    "import matplotlib.pyplot as plt\n",
    "from degree_freedom_queen import *\n",
    "from degree_freedom_king1 import *\n",
    "from degree_freedom_king2 import *\n",
    "from generate_game import *\n",
    "from Chess_env import *\n",
    "from RL_library import *\n",
    "\n",
    "\n",
    "size_board = 4"
   ]
  },
  {
   "cell_type": "markdown",
   "id": "0bceca7c",
   "metadata": {},
   "source": [
    "## The Environment\n",
    "\n",
    "You can find the environment in the file Chess_env, which contains the class Chess_env. To define an object, you need to provide the board size considered as input. In our example, size_board=4. \n",
    "Chess_env is composed by the following methods:\n",
    "\n",
    "1. Initialise_game. The method initialises an episode by placing the three pieces considered (Agent's king and queen, enemy's king) in the chess board. The outputs of the method are described below in order.\n",
    "\n",
    "     S $\\;$ A matrix representing the board locations filled with 4 numbers: 0, no piece in that position; 1, location of the \n",
    "     agent's king; 2 location of the queen; 3 location of the enemy king.\n",
    "     \n",
    "     X $\\;$ The features, that is the input to the neural network. See the assignment for more information regarding the            definition of the features adopted. To personalise this, go into the Features method of the class Chess_env() and change        accordingly.\n",
    "     \n",
    "     allowed_a $\\;$ The allowed actions that the agent can make. The agent is moving a king, with a total number of 8                possible actions, and a queen, with a total number of $(board_{size}-1)\\times 8$ actions. The total number of possible actions correspond      to the sum of the two, but not all actions are allowed in a given position (movements to locations outside the borders or      against chess rules). Thus, the variable allowed_a is a vector that is one (zero) for an action that the agent can (can't)      make. Be careful, apply the policy considered on the actions that are allowed only.\n",
    "     \n",
    "\n",
    "2. OneStep. The method performs a one step update of the system. Given as input the action selected by the agent, it updates the chess board by performing that action and the response of the enemy king (which is a random allowed action in the settings considered). The first three outputs are the same as for the Initialise_game method, but the variables are computed for the position reached after the update of the system. The fourth and fifth outputs are:\n",
    "\n",
    "     R $\\;$ The reward. To change this, look at the OneStep method of the class where the rewards are set.\n",
    "     \n",
    "     Done $\\;$ A variable that is 1 if the episode has ended (checkmate or draw).\n",
    "     \n",
    "     \n",
    "3. Features. Given the chessboard position, the method computes the features.\n",
    "\n",
    "This information and a quick analysis of the class should be all you need to get going. The other functions that the class exploits are uncommented and constitute an example on how not to write a python code. You can take a look at them if you want, but it is not necessary.\n",
    "\n",
    "\n",
    "\n",
    "\n"
   ]
  },
  {
   "cell_type": "code",
   "execution_count": 2,
   "id": "9593a299",
   "metadata": {},
   "outputs": [],
   "source": [
    "## INITIALISE THE ENVIRONMENT\n",
    "\n",
    "env=Chess_Env(size_board)"
   ]
  },
  {
   "cell_type": "markdown",
   "id": "7192965e",
   "metadata": {},
   "source": [
    "## Sarsa + Neural Network"
   ]
  },
  {
   "cell_type": "markdown",
   "id": "fe1070d0",
   "metadata": {},
   "source": [
    "Initialize the parameters for training\n",
    "-   Nerual Network Layer\n",
    "-   Hyperparameters\n",
    "-   Result Array"
   ]
  },
  {
   "cell_type": "code",
   "execution_count": 3,
   "id": "d3620101",
   "metadata": {},
   "outputs": [],
   "source": [
    "# INITIALISE THE PARAMETERS OF YOUR NEURAL NETWORK AND...\n",
    "# PLEASE CONSIDER TO USE A MASK OF ONE FOR THE ACTION MADE AND ZERO OTHERWISE IF YOU ARE NOT USING VANILLA GRADIENT DESCENT...\n",
    "# WE SUGGEST A NETWORK WITH ONE HIDDEN LAYER WITH SIZE 200. \n",
    "\n",
    "\n",
    "S,X,allowed_a=env.Initialise_game()\n",
    "N_a=np.shape(allowed_a)[0]   # TOTAL NUMBER OF POSSIBLE ACTIONS\n",
    "\n",
    "N_in=np.shape(X)[0]    ## INPUT SIZE\n",
    "N_h=200                ## NUMBER OF HIDDEN NODES\n",
    "\n",
    "\n",
    "## INITALISE YOUR NEURAL NETWORK...\n",
    "## ----------------------------------------------------\n",
    "### Xavier Initialize for W of each layer\n",
    "W1 = np.random.randn(N_h,N_in) * np.sqrt(1 / (N_in))\n",
    "b1 = np.zeros((N_h,))\n",
    "\n",
    "W2 = np.random.randn(N_a,N_h) * np.sqrt(1 / (N_h))\n",
    "b2 = np.zeros((N_a,))\n",
    "\n",
    "### Adam Optimization Initialize\n",
    "beta1=0.9\n",
    "Adam_W1 = Adam(W1, beta1)\n",
    "Adam_b1 = Adam(b1, beta1)\n",
    "Adam_W2 = Adam(W2, beta1)\n",
    "Adam_b2 = Adam(b2, beta1)\n",
    "## ----------------------------------------------------\n",
    "\n",
    "# HYPERPARAMETERS SUGGESTED (FOR A GRID SIZE OF 4)\n",
    "\n",
    "epsilon_0 = 0.2     # STARTING VALUE OF EPSILON FOR THE EPSILON-GREEDY POLICY\n",
    "beta = 0.00005      # THE PARAMETER SETS HOW QUICKLY THE VALUE OF EPSILON IS DECAYING (SEE epsilon_f BELOW)\n",
    "gamma = 0.85        # THE DISCOUNT FACTOR\n",
    "eta = 0.0035        # THE LEARNING RATE\n",
    "\n",
    "N_episodes = 20 #100000 # THE NUMBER OF GAMES TO BE PLAYED \n",
    "N_perfCheck = 10 #Check the performance every N_perfCheck episodes\n",
    "\n",
    "# SAVING VARIABLES\n",
    "Episode = np.zeros([N_episodes//N_perfCheck, 1])\n",
    "R_save = np.zeros([N_episodes//N_perfCheck, 1])\n",
    "N_moves_save = np.zeros([N_episodes//N_perfCheck, 1])\n",
    "# TRAINING LOOP BONE STRUCTURE...\n",
    "# I WROTE FOR YOU A RANDOM AGENT (THE RANDOM AGENT WILL BE SLOWER TO GIVE CHECKMATE THAN AN OPTIMISED ONE, \n",
    "# SO DON'T GET CONCERNED BY THE TIME IT TAKES), CHANGE WITH YOURS ...\n"
   ]
  },
  {
   "cell_type": "markdown",
   "id": "fb6a7433",
   "metadata": {},
   "source": [
    "Training Q value following Sarsa"
   ]
  },
  {
   "cell_type": "code",
   "execution_count": 9,
   "id": "ece20429",
   "metadata": {},
   "outputs": [
    {
     "name": "stdout",
     "output_type": "stream",
     "text": [
      "10 : Agent Performance Check, START\n"
     ]
    },
    {
     "name": "stderr",
     "output_type": "stream",
     "text": [
      "100%|██████████| 100/100 [00:04<00:00, 20.46it/s]\n"
     ]
    },
    {
     "name": "stdout",
     "output_type": "stream",
     "text": [
      "Agent Performance Check, Average reward: 0.34 Number of steps:  50.13\n",
      "-------------------------------------------------------------------\n",
      "20 : Agent Performance Check, START\n"
     ]
    },
    {
     "name": "stderr",
     "output_type": "stream",
     "text": [
      "100%|██████████| 100/100 [00:03<00:00, 30.77it/s]"
     ]
    },
    {
     "name": "stdout",
     "output_type": "stream",
     "text": [
      "Agent Performance Check, Average reward: 0.4 Number of steps:  31.2\n",
      "-------------------------------------------------------------------\n"
     ]
    },
    {
     "name": "stderr",
     "output_type": "stream",
     "text": [
      "\n"
     ]
    }
   ],
   "source": [
    "p = 0\n",
    "for n in range(N_episodes):\n",
    "\n",
    "    epsilon_f = epsilon_0 / (1 + beta * n)   ## DECAYING EPSILON\n",
    "    Done=0                                   ## SET DONE TO ZERO (BEGINNING OF THE EPISODE)\n",
    "    i = 1                                    ## COUNTER FOR NUMBER OF ACTIONS\n",
    "    \n",
    "    \"\"\"\n",
    "    Sarsa Algorithm\n",
    "    1. Initialize S, X, ALLOWED_A\n",
    "    \"\"\"\n",
    "    S,X,allowed_a=env.Initialise_game()      ## INITIALISE GAME\n",
    "    \n",
    "    \"\"\"\n",
    "    Sarsa Algorithm\n",
    "    2. CHOOSE A_AGENT FROM S USING POLICY DERIVED FROM Q (EPSILON-GREEDY)\n",
    "    \"\"\"\n",
    "    Qvalues, a_h = CalQvalues(X,W1,W2,b1,b2)\n",
    "    a_agent, _ = EpsilonGreedy_Policy(Qvalues, allowed_a, epsilon_f)\n",
    "    \n",
    "    \"\"\"\n",
    "    Q-Learning Algorithm\n",
    "        Loop for each episode\n",
    "    \"\"\"\n",
    "    while Done==0:                           ## START THE EPISODE\n",
    "        \n",
    "        \n",
    "        ## THIS IS A RANDOM AGENT, CHANGE IT...\n",
    "        \"\"\"\n",
    "        Sarsa Algorithm\n",
    "        3. TAKE ACTION A_AGENT, OBSERVE R, S_NEXT\n",
    "        \"\"\"\n",
    "        S_next,X_next,allowed_a_next,R,Done=env.OneStep(a_agent)\n",
    "\n",
    "        \"\"\"\n",
    "        If the game is Done(Checkmate, Draw),\n",
    "        Update the parameters of Neural Network lastly.\n",
    "        \"\"\"        \n",
    "        if Done==1:\n",
    "\n",
    "            # Back Propagation with ADAM Optimization\n",
    "            # NOT CONSIDER X_NEXT\n",
    "\n",
    "            # Compute the error signal\n",
    "            e_n = np.zeros(np.shape(Qvalues))\n",
    "            e_n[a_agent] = R-Qvalues[a_agent]\n",
    "\n",
    "            # Backpropagation: output layer -> hidden layer\n",
    "            # Activation Function : ReLu(Reactified Linear Function)\n",
    "            delta2 = e_n\n",
    "            dW2 = np.outer(delta2, a_h)\n",
    "            db2 = delta2\n",
    "\n",
    "            # Backpropagation: hidden layer -> input layer\n",
    "            # Activation Function : ReLu(Reactified Linear Function)\n",
    "            delta1 = np.dot(W2.T, delta2)\n",
    "            dW1 = np.outer(delta1,X)\n",
    "            db1 = delta1\n",
    "\n",
    "            W2 += eta*Adam_W2.Compute(dW2)\n",
    "            W1 += eta*Adam_W1.Compute(dW1)\n",
    "            b2 += eta*Adam_b2.Compute(db2)\n",
    "            b1 += eta*Adam_b1.Compute(db1)\n",
    "            \n",
    "            break\n",
    "        \n",
    "        # IF THE EPISODE IS NOT OVER...\n",
    "        else:\n",
    "            \n",
    "            ## ONLY TO PUT SUMETHING\n",
    "            PIPPO=1\n",
    "        \"\"\"\n",
    "        Sarsa Algorithm\n",
    "        4. CHOOSE A_AGENT_NEXT FROM S_NEXT USING POLICY DERIVED FROM Q (EPSILON-GREEDY)\n",
    "        \"\"\"\n",
    "        Qvalues_next, a_h = CalQvalues(X_next,W1,W2,b1,b2)\n",
    "        a_agent_next, _ = EpsilonGreedy_Policy(Qvalues_next, allowed_a_next, epsilon_f)\n",
    "\n",
    "        \"\"\"\n",
    "        Sarsa Algorithm\n",
    "        5. UPDATE Q VALUES\n",
    "        \"\"\"\n",
    "        # Compute the delta of Sarsa\n",
    "        e_n = np.zeros(np.shape(Qvalues))\n",
    "        e_n[a_agent] = R+gamma*Qvalues_next[a_agent_next]-Qvalues[a_agent]\n",
    "        \n",
    "        # Backpropagation: output layer -> hidden layer\n",
    "        # Activation Function : ReLu(Reactified Linear Function)\n",
    "        delta2 = e_n\n",
    "        dW2 = np.outer(delta2, a_h)\n",
    "        db2 = delta2\n",
    "\n",
    "        # Backpropagation: hidden layer -> input layer\n",
    "        # Activation Function : ReLu(Reactified Linear Function)\n",
    "        delta1 = np.dot(W2.T, delta2)\n",
    "        dW1 = np.outer(delta1,X)\n",
    "        db1 = delta1\n",
    "\n",
    "        W2 += eta*Adam_W2.Compute(dW2)\n",
    "        W1 += eta*Adam_W1.Compute(dW1)\n",
    "        b2 += eta*Adam_b2.Compute(db2)\n",
    "        b1 += eta*Adam_b1.Compute(db1)\n",
    "        \n",
    "        \"\"\"\n",
    "        Q-Learning Algorithm\n",
    "        6. UPDATE S, X, A_AGENT\n",
    "        \"\"\"  \n",
    "        S=np.copy(S_next)\n",
    "        X=np.copy(X_next)\n",
    "        Qvalues, a_h = CalQvalues(X,W1,W2,b1,b2)\n",
    "        a_agent=a_agent_next\n",
    "\n",
    "        i += 1  # UPDATE COUNTER FOR NUMBER OF ACTIONS\n",
    "   \n",
    "    if ((n+1)%N_perfCheck==0):\n",
    "        print(n+1,': Agent Performance Check, START')\n",
    "        R_perf, N_moves_perf = PerformanceCheck(env,W1,W2,b1,b2,100)\n",
    "        print('Agent Performance Check, Average reward:',R_perf,'Number of steps: ',N_moves_perf)\n",
    "        print('-------------------------------------------------------------------')\n",
    "\n",
    "        Episode[p] = n+1\n",
    "        R_save[p] = np.copy(R_perf)\n",
    "        N_moves_save[p] = np.copy(N_moves_perf)\n",
    "\n",
    "        p += 1"
   ]
  },
  {
   "cell_type": "code",
   "execution_count": 18,
   "id": "b288ad57",
   "metadata": {},
   "outputs": [
    {
     "name": "stdout",
     "output_type": "stream",
     "text": [
      "Random_Agent, Average reward: 0.37479 Number of steps:  12.4057\n"
     ]
    }
   ],
   "source": [
    "R_perf, N_moves_perf = PerformanceCheck(env,W1,W2,b1,b2,100)\n",
    "print('Agent Performance Check, Average reward:',R_perf,'Number of steps: ',N_moves_perf)\n",
    "        "
   ]
  },
  {
   "cell_type": "code",
   "execution_count": 19,
   "id": "fda0c03e",
   "metadata": {},
   "outputs": [
    {
     "data": {
      "text/plain": [
       "[<matplotlib.lines.Line2D at 0x7fa7bb8bffd0>]"
      ]
     },
     "execution_count": 19,
     "metadata": {},
     "output_type": "execute_result"
    },
    {
     "data": {
      "image/png": "[encoded data removed]",
      "text/plain": [
       "<Figure size 432x288 with 1 Axes>"
      ]
     },
     "metadata": {
      "needs_background": "light"
     },
     "output_type": "display_data"
    }
   ],
   "source": [
    "plt.plot(R_save)"
   ]
  },
  {
   "cell_type": "code",
   "execution_count": 20,
   "id": "6ca4eb10",
   "metadata": {},
   "outputs": [
    {
     "data": {
      "text/plain": [
       "[<matplotlib.lines.Line2D at 0x7fa7b8fdca60>]"
      ]
     },
     "execution_count": 20,
     "metadata": {},
     "output_type": "execute_result"
    },
    {
     "data": {
      "image/png": "[encoded data removed]",
      "text/plain": [
       "<Figure size 432x288 with 1 Axes>"
      ]
     },
     "metadata": {
      "needs_background": "light"
     },
     "output_type": "display_data"
    }
   ],
   "source": [
    "plt.plot(N_moves_save)"
   ]
  },
  {
   "cell_type": "code",
   "execution_count": 21,
   "id": "a5bac400",
   "metadata": {},
   "outputs": [],
   "source": [
    "np.savetxt(\"R_Save_epsilon_0\",R_save)"
   ]
  },
  {
   "cell_type": "code",
   "execution_count": 23,
   "id": "cc0d6a67",
   "metadata": {},
   "outputs": [],
   "source": [
    "np.savetxt(\"N_moves_save_epsilon_0\",N_moves_save)"
   ]
  },
  {
   "cell_type": "code",
   "execution_count": null,
   "id": "f98c99e2",
   "metadata": {},
   "outputs": [],
   "source": []
  }
 ],
 "metadata": {
  "kernelspec": {
   "display_name": "Python 3 (ipykernel)",
   "language": "python",
   "name": "python3"
  },
  "language_info": {
   "codemirror_mode": {
    "name": "ipython",
    "version": 3
   },
   "file_extension": ".py",
   "mimetype": "text/x-python",
   "name": "python",
   "nbconvert_exporter": "python",
   "pygments_lexer": "ipython3",
   "version": "3.9.1"
  }
 },
 "nbformat": 4,
 "nbformat_minor": 5
}
